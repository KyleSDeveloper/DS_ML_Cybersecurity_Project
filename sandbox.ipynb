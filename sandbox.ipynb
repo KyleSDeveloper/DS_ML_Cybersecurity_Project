{
 "cells": [
  {
   "cell_type": "code",
   "execution_count": 2,
   "metadata": {},
   "outputs": [],
   "source": [
    "import pandas as pd\n",
    "import numpy as np\n",
    "import os"
   ]
  },
  {
   "cell_type": "code",
   "execution_count": 3,
   "metadata": {},
   "outputs": [],
   "source": [
    "benign_folder = 'benign_sites'\n",
    "phishing_folder = 'phishing_sites'\n"
   ]
  },
  {
   "cell_type": "code",
   "execution_count": 5,
   "metadata": {},
   "outputs": [],
   "source": [
    "# Function to read HTML files and assign labels\n",
    "def read_html_files(folder, label):\n",
    "    data = []\n",
    "    for filename in os.listdir(folder):\n",
    "        if filename.endswith('.html'):\n",
    "            with open(os.path.join(folder, filename), 'r', encoding='utf-8') as file:\n",
    "                html_content = file.read()\n",
    "                data.append({'html_content': html_content, 'label': label})\n",
    "    return data\n",
    "\n",
    "# Load data from both folders\n",
    "benign_data = read_html_files(benign_folder, 0)  # 0 = benign\n",
    "phishing_data = read_html_files(phishing_folder, 1)  # 1 = phishing\n",
    "\n",
    "# Combine into a DataFrame\n",
    "df = pd.DataFrame(benign_data + phishing_data)\n"
   ]
  },
  {
   "cell_type": "code",
   "execution_count": 6,
   "metadata": {},
   "outputs": [
    {
     "data": {
      "text/plain": [
       "<bound method NDFrame.head of                                          html_content  label\n",
       "0   <!DOCTYPE html>\\n<html lang=\"en\" class=\"webp\" ...      0\n",
       "1   \\n    <!DOCTYPE html>\\n    <html lang=\"en-US\" ...      0\n",
       "2   <!DOCTYPE html><html lang=\"en-us\"><head><scrip...      0\n",
       "3   <!DOCTYPE html>\\n<html lang=\"en\" class=\" nytap...      0\n",
       "4   \\n\\n\\n\\n\\n\\n\\n\\n<!doctype html>\\n\\n<html class...      0\n",
       "5   <!DOCTYPE html><html lang=\"en\"><head><meta cha...      0\n",
       "6   <!DOCTYPE HTML>\\n\\n<html lang=\"en-US\" dir=\"ltr...      0\n",
       "7   <!DOCTYPE html>\\n<html lang=\"en\" dir=\"ltr\" pre...      0\n",
       "8   <!DOCTYPE html>\\n<html lang=\"en\" class=\"no-js\"...      0\n",
       "9   <!DOCTYPE html>\\n<html lang=\"en\" class=\"large-...      0\n",
       "10  <!DOCTYPE html><html><head nonce=\"d4dd026a-2cb...      1\n",
       "11  <!DOCTYPE html><html class=\"no-js\" dir=\"ltr\" l...      1\n",
       "12  <!DOCTYPE html>\\n<html lang=\"en\">\\n\\n<head>\\n ...      1\n",
       "13  <!doctype html>\\n<html lang=\"en\">\\n<head>\\n  <...      1\n",
       "14  <!DOCTYPE html>\\n<html lang=\"en-US\">\\n  <head>...      1\n",
       "15  \\n\\n\\n <html lang=\"en\" xmlns=\"http://www.w3.or...      1\n",
       "16  <!DOCTYPE html>\\n\\n<html >\\n   <head>\\n      <...      1\n",
       "17  <!DOCTYPE html>\\n\\n<html >\\n   <head>\\n      <...      1\n",
       "18  <html lang=\"pt-BR\"><head><meta http-equiv=\"ori...      1\n",
       "19  <!DOCTYPE html>\\n<html lang=\"en\">\\n<head>\\n   ...      1\n",
       "20  <!DOCTYPE html>\\n<html lang=\"en\">\\n  <head>\\n ...      1\n",
       "21  <!DOCTYPE html>\\n<html lang=\"en\">\\n<head>\\n   ...      1\n",
       "22  <!-- 6476903233 2987294702 7520179727 58222204...      1\n",
       "23  <!DOCTYPE html><html lang=\"en\" data-scrapbook-...      1\n",
       "24  <!DOCTYPE html>\\n<html lang=\"en-US\" data-websi...      1\n",
       "25  <!DOCTYPE html>\\n<html lang=\"en-US\" data-websi...      1>"
      ]
     },
     "execution_count": 6,
     "metadata": {},
     "output_type": "execute_result"
    }
   ],
   "source": [
    "df.head"
   ]
  },
  {
   "cell_type": "code",
   "execution_count": null,
   "metadata": {},
   "outputs": [],
   "source": []
  }
 ],
 "metadata": {
  "kernelspec": {
   "display_name": "cn_ml_course",
   "language": "python",
   "name": "python3"
  },
  "language_info": {
   "codemirror_mode": {
    "name": "ipython",
    "version": 3
   },
   "file_extension": ".py",
   "mimetype": "text/x-python",
   "name": "python",
   "nbconvert_exporter": "python",
   "pygments_lexer": "ipython3",
   "version": "3.12.7"
  }
 },
 "nbformat": 4,
 "nbformat_minor": 2
}
